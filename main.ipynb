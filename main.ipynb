{
 "cells": [
  {
   "cell_type": "code",
   "execution_count": 1,
   "metadata": {},
   "outputs": [],
   "source": [
    "import numpy as np\n",
    "import archiveUtils\n",
    "from EncryptionAlgorithms.PartiallyHE import elGamal, paillier, RSA\n",
    "from EncryptionAlgorithms.SomeWhatHE import GM, CKKS, benaloh\n",
    "from EncryptionAlgorithms.FullyHE import CKKS_Bootstrapping, BFV"
   ]
  },
  {
   "cell_type": "code",
   "execution_count": 2,
   "metadata": {},
   "outputs": [],
   "source": [
    "def executeAlgorithms(resultASCII, result, printing:bool):\n",
    "    for i in range(0, len(result), 10):\n",
    "        result_toUse = result[:i]\n",
    "        resultASCII_toUse = resultASCII[:i]\n",
    "        print(\"************************************\")\n",
    "        print(\"********** text length \" +str(i)+ \"**********\")\n",
    "        print(\"************************************\")\n",
    "        \n",
    "        print(\"===============================================\")\n",
    "        print(\"------- Partially homomorphic encryption ------\")\n",
    "        print(\"===============================================\")\n",
    "        '''resultPaillierEnc,resultPaillierDec = paillier.execute(resultASCII_toUse,printing)\n",
    "        resultRSAEnc,resultRSADec = RSA.execute(result_toUse, printing)\n",
    "        resultelGamalEnc,resultelGamalDec = elGamal.execute(resultASCII_toUse, printing)\n",
    "'''\n",
    "\n",
    "        print(\"===============================================\")\n",
    "        print(\"------- Fully homomorphic encryption -------\")\n",
    "        print(\"===============================================\")\n",
    "        '''CKKS_Bootstrapping.execute(resultASCII_toUse, printing)\n",
    "        BFV.execute(resultASCII_toUse,printing)'''\n",
    "        \n",
    "        \n",
    "        print(\"===============================================\")\n",
    "        print(\"------- Somewhat homomorphic encryption -------\")\n",
    "        print(\"===============================================\")\n",
    "        #resultBGVEnc, resultBGVDec = BGV.execute(resultASCII_toUse, printing)\n",
    "        #resultGM,resultGMDec = GM.execute(resultASCII_toUse, printing)\n",
    "        #testGM = [123,345,1,2]\n",
    "        #resultCKKSEnc, resultCKKSdec, resultSimilarity = CKKS.execute(testGM, printing)\n",
    "        benaloh.execute()"
   ]
  },
  {
   "cell_type": "code",
   "execution_count": 3,
   "metadata": {},
   "outputs": [],
   "source": [
    "def main (printing:bool):\n",
    "    resultASCII,result = archiveUtils.returnArchiveASCII(\"Files/1paragraph\")\n",
    "    if(printing):\n",
    "        print(\"------------ Original plaintext ----------\")\n",
    "        print(result)\n",
    "        print(resultASCII)\n",
    "    executeAlgorithms(resultASCII, result, printing)    \n",
    "    "
   ]
  },
  {
   "cell_type": "code",
   "execution_count": 4,
   "metadata": {},
   "outputs": [
    {
     "name": "stdout",
     "output_type": "stream",
     "text": [
      "------------ Original plaintext ----------\n",
      "['L', 'o', 'r', 'e', 'm', ' ', 'i', 'p', 's', 'u', 'm', ' ', 'd', 'o', 'l', 'o', 'r', ' ', 's', 'i', 't', ' ', 'a', 'm', 'e', 't', ',', ' ', 'c', 'o', 'n', 's', 'e', 'c', 't', 'e', 't', 'u', 'r', ' ', 'a', 'd', 'i', 'p', 'i', 's', 'c', 'i', 'n', 'g', ' ', 'e', 'l', 'i', 't', ',', ' ', 's', 'e', 'd', ' ', 'd', 'o', ' ', 'e', 'i', 'u', 's', 'm', 'o', 'd', ' ', 't', 'e', 'm', 'p', 'o', 'r', ' ', 'i', 'n', 'c', 'i', 'd', 'i', 'd', 'u', 'n', 't', ' ', 'u', 't', ' ', 'l', 'a', 'b', 'o', 'r', 'e', ' ', 'e', 't', ' ', 'd', 'o', 'l', 'o', 'r', 'e', ' ', 'm', 'a', 'g', 'n', 'a', ' ', 'a', 'l', 'i', 'q', 'u', 'a', '.', ' ', 'I', 'n', 't', 'e', 'r', 'd', 'u', 'm', ' ', 'v', 'e', 'l', 'i', 't', ' ', 'e', 'u', 'i', 's', 'm', 'o', 'd', ' ', 'i', 'n', ' ', 'p', 'e', 'l', 'l', 'e', 'n', 't', 'e', 's', 'q', 'u', 'e', ' ', 'm', 'a', 's', 's', 'a', ' ', 'p', 'l', 'a', 'c', 'e', 'r', 'a', 't', ' ', 'd', 'u', 'i', 's', ' ', 'u', 'l', 't', 'r', 'i', 'c', 'i', 'e', 's', '.', ' ', 'C', 'o', 'n', 's', 'e', 'c', 't', 'e', 't', 'u', 'r', ' ', 'l', 'o', 'r', 'e', 'm', ' ', 'd', 'o', 'n', 'e', 'c', ' ', 'm', 'a', 's', 's', 'a', ' ', 's', 'a', 'p', 'i', 'e', 'n', ' ', 'f', 'a', 'u', 'c', 'i', 'b', 'u', 's', '.', ' ', 'A', 'l', 'i', 'q', 'u', 'e', 't', ' ', 'n', 'e', 'c', ' ', 'u', 'l', 'l', 'a', 'm', 'c', 'o', 'r', 'p', 'e', 'r', ' ', 's', 'i', 't', ' ', 'a', 'm', 'e', 't', ' ', 'r', 'i', 's', 'u', 's', ' ', 'n', 'u', 'l', 'l', 'a', 'm', ' ', 'e', 'g', 'e', 't', ' ', 'f', 'e', 'l', 'i', 's', '.', ' ', 'D', 'u', 'i', 's', ' ', 'u', 't', ' ', 'd', 'i', 'a', 'm', ' ', 'q', 'u', 'a', 'm', ' ', 'n', 'u', 'l', 'l', 'a', ' ', 'p', 'o', 'r', 't', 't', 'i', 't', 'o', 'r', ' ', 'm', 'a', 's', 's', 'a', '.', ' ', 'T', 'i', 'n', 'c', 'i', 'd', 'u', 'n', 't', ' ', 'n', 'u', 'n', 'c', ' ', 'p', 'u', 'l', 'v', 'i', 'n', 'a', 'r', ' ', 's', 'a', 'p', 'i', 'e', 'n', ' ', 'e', 't', '.', ' ', 'V', 'i', 't', 'a', 'e', ' ', 'a', 'l', 'i', 'q', 'u', 'e', 't', ' ', 'n', 'e', 'c', ' ', 'u', 'l', 'l', 'a', 'm', 'c', 'o', 'r', 'p', 'e', 'r', ' ', 's', 'i', 't', '.', ' ', 'S', 'a', 'p', 'i', 'e', 'n', ' ', 'e', 't', ' ', 'l', 'i', 'g', 'u', 'l', 'a', ' ', 'u', 'l', 'l', 'a', 'm', 'c', 'o', 'r', 'p', 'e', 'r', ' ', 'm', 'a', 'l', 'e', 's', 'u', 'a', 'd', 'a', ' ', 'p', 'r', 'o', 'i', 'n', ' ', 'l', 'i', 'b', 'e', 'r', 'o', '.', ' ', 'M', 'a', 'g', 'n', 'a', ' ', 'e', 't', 'i', 'a', 'm', ' ', 't', 'e', 'm', 'p', 'o', 'r', ' ', 'o', 'r', 'c', 'i', ' ', 'e', 'u', ' ', 'l', 'o', 'b', 'o', 'r', 't', 'i', 's', ' ', 'e', 'l', 'e', 'm', 'e', 'n', 't', 'u', 'm', ' ', 'n', 'i', 'b', 'h', ' ', 't', 'e', 'l', 'l', 'u', 's', '.', ' ', 'N', 'i', 's', 'l', ' ', 'v', 'e', 'l', ' ', 'p', 'r', 'e', 't', 'i', 'u', 'm', ' ', 'l', 'e', 'c', 't', 'u', 's', ' ', 'q', 'u', 'a', 'm', ' ', 'i', 'd', ' ', 'l', 'e', 'o', ' ', 'i', 'n', ' ', 'v', 'i', 't', 'a', 'e', '.']\n",
      "[76, 111, 114, 101, 109, 32, 105, 112, 115, 117, 109, 32, 100, 111, 108, 111, 114, 32, 115, 105, 116, 32, 97, 109, 101, 116, 44, 32, 99, 111, 110, 115, 101, 99, 116, 101, 116, 117, 114, 32, 97, 100, 105, 112, 105, 115, 99, 105, 110, 103, 32, 101, 108, 105, 116, 44, 32, 115, 101, 100, 32, 100, 111, 32, 101, 105, 117, 115, 109, 111, 100, 32, 116, 101, 109, 112, 111, 114, 32, 105, 110, 99, 105, 100, 105, 100, 117, 110, 116, 32, 117, 116, 32, 108, 97, 98, 111, 114, 101, 32, 101, 116, 32, 100, 111, 108, 111, 114, 101, 32, 109, 97, 103, 110, 97, 32, 97, 108, 105, 113, 117, 97, 46, 32, 73, 110, 116, 101, 114, 100, 117, 109, 32, 118, 101, 108, 105, 116, 32, 101, 117, 105, 115, 109, 111, 100, 32, 105, 110, 32, 112, 101, 108, 108, 101, 110, 116, 101, 115, 113, 117, 101, 32, 109, 97, 115, 115, 97, 32, 112, 108, 97, 99, 101, 114, 97, 116, 32, 100, 117, 105, 115, 32, 117, 108, 116, 114, 105, 99, 105, 101, 115, 46, 32, 67, 111, 110, 115, 101, 99, 116, 101, 116, 117, 114, 32, 108, 111, 114, 101, 109, 32, 100, 111, 110, 101, 99, 32, 109, 97, 115, 115, 97, 32, 115, 97, 112, 105, 101, 110, 32, 102, 97, 117, 99, 105, 98, 117, 115, 46, 32, 65, 108, 105, 113, 117, 101, 116, 32, 110, 101, 99, 32, 117, 108, 108, 97, 109, 99, 111, 114, 112, 101, 114, 32, 115, 105, 116, 32, 97, 109, 101, 116, 32, 114, 105, 115, 117, 115, 32, 110, 117, 108, 108, 97, 109, 32, 101, 103, 101, 116, 32, 102, 101, 108, 105, 115, 46, 32, 68, 117, 105, 115, 32, 117, 116, 32, 100, 105, 97, 109, 32, 113, 117, 97, 109, 32, 110, 117, 108, 108, 97, 32, 112, 111, 114, 116, 116, 105, 116, 111, 114, 32, 109, 97, 115, 115, 97, 46, 32, 84, 105, 110, 99, 105, 100, 117, 110, 116, 32, 110, 117, 110, 99, 32, 112, 117, 108, 118, 105, 110, 97, 114, 32, 115, 97, 112, 105, 101, 110, 32, 101, 116, 46, 32, 86, 105, 116, 97, 101, 32, 97, 108, 105, 113, 117, 101, 116, 32, 110, 101, 99, 32, 117, 108, 108, 97, 109, 99, 111, 114, 112, 101, 114, 32, 115, 105, 116, 46, 32, 83, 97, 112, 105, 101, 110, 32, 101, 116, 32, 108, 105, 103, 117, 108, 97, 32, 117, 108, 108, 97, 109, 99, 111, 114, 112, 101, 114, 32, 109, 97, 108, 101, 115, 117, 97, 100, 97, 32, 112, 114, 111, 105, 110, 32, 108, 105, 98, 101, 114, 111, 46, 32, 77, 97, 103, 110, 97, 32, 101, 116, 105, 97, 109, 32, 116, 101, 109, 112, 111, 114, 32, 111, 114, 99, 105, 32, 101, 117, 32, 108, 111, 98, 111, 114, 116, 105, 115, 32, 101, 108, 101, 109, 101, 110, 116, 117, 109, 32, 110, 105, 98, 104, 32, 116, 101, 108, 108, 117, 115, 46, 32, 78, 105, 115, 108, 32, 118, 101, 108, 32, 112, 114, 101, 116, 105, 117, 109, 32, 108, 101, 99, 116, 117, 115, 32, 113, 117, 97, 109, 32, 105, 100, 32, 108, 101, 111, 32, 105, 110, 32, 118, 105, 116, 97, 101, 46]\n",
      "************************************\n",
      "********** text length 0**********\n",
      "************************************\n",
      "===============================================\n",
      "------- Partially homomorphic encryption ------\n",
      "===============================================\n",
      "===============================================\n",
      "------- Fully homomorphic encryption -------\n",
      "===============================================\n",
      "===============================================\n",
      "------- Somewhat homomorphic encryption -------\n",
      "===============================================\n",
      "(19216600077994799353260313221398789879186078670954290344506812733308506051716082908273731244363110140503284080349788909360816119884507137670246138409520294374742765508250847495273676537585122786778057903872712210822062025534740152232580225599017119182347947362029304121451560715938892725848376452061566308618992897918794391628126390213273056350925623103598731309736889550072970995726147601392323388689268372679163273483808684607638997049462143562610034783559981161065487861356451599654088227818738474458708509739905070894279794530569579061358482664222899872267854294077522267604495071632889701156431015852297309199419, 9105195089834998408888179060189383710579577808588806001722355444837125382414693606425582970993119060721733667060646444017691169819557144047633225193137476388223733111282824882996100095791629054452287655345792137088381279473984072488494403577735125526538046346139495235471226332585177229183035022742579640225577182676462755725306386079264750357003416871736146751429502123070335117865405485953219167506834028309592970263079206977723257241384307794327770326842927609161591021354127805731427728863985045981093736804770653087161073608066446529548467593582937307669680546283001765660914634785260690280441284581443411050583)\n"
     ]
    },
    {
     "ename": "AttributeError",
     "evalue": "'int' object has no attribute 'hex'",
     "output_type": "error",
     "traceback": [
      "\u001b[0;31m---------------------------------------------------------------------------\u001b[0m",
      "\u001b[0;31mAttributeError\u001b[0m                            Traceback (most recent call last)",
      "\u001b[1;32m/Users/luis/Library/CloudStorage/GoogleDrive-luigifog@gmail.com/Mi unidad/Master/Clases/3rd term/Network Security/Final Project/main.ipynb Celda 4\u001b[0m line \u001b[0;36m2\n\u001b[1;32m      <a href='vscode-notebook-cell:/Users/luis/Library/CloudStorage/GoogleDrive-luigifog%40gmail.com/Mi%20unidad/Master/Clases/3rd%20term/Network%20Security/Final%20Project/main.ipynb#W3sZmlsZQ%3D%3D?line=0'>1</a>\u001b[0m \u001b[39mif\u001b[39;00m \u001b[39m__name__\u001b[39m \u001b[39m==\u001b[39m \u001b[39m\"\u001b[39m\u001b[39m__main__\u001b[39m\u001b[39m\"\u001b[39m:\n\u001b[0;32m----> <a href='vscode-notebook-cell:/Users/luis/Library/CloudStorage/GoogleDrive-luigifog%40gmail.com/Mi%20unidad/Master/Clases/3rd%20term/Network%20Security/Final%20Project/main.ipynb#W3sZmlsZQ%3D%3D?line=1'>2</a>\u001b[0m     main(\u001b[39mTrue\u001b[39;49;00m)\n",
      "\u001b[1;32m/Users/luis/Library/CloudStorage/GoogleDrive-luigifog@gmail.com/Mi unidad/Master/Clases/3rd term/Network Security/Final Project/main.ipynb Celda 4\u001b[0m line \u001b[0;36m7\n\u001b[1;32m      <a href='vscode-notebook-cell:/Users/luis/Library/CloudStorage/GoogleDrive-luigifog%40gmail.com/Mi%20unidad/Master/Clases/3rd%20term/Network%20Security/Final%20Project/main.ipynb#W3sZmlsZQ%3D%3D?line=4'>5</a>\u001b[0m     \u001b[39mprint\u001b[39m(result)\n\u001b[1;32m      <a href='vscode-notebook-cell:/Users/luis/Library/CloudStorage/GoogleDrive-luigifog%40gmail.com/Mi%20unidad/Master/Clases/3rd%20term/Network%20Security/Final%20Project/main.ipynb#W3sZmlsZQ%3D%3D?line=5'>6</a>\u001b[0m     \u001b[39mprint\u001b[39m(resultASCII)\n\u001b[0;32m----> <a href='vscode-notebook-cell:/Users/luis/Library/CloudStorage/GoogleDrive-luigifog%40gmail.com/Mi%20unidad/Master/Clases/3rd%20term/Network%20Security/Final%20Project/main.ipynb#W3sZmlsZQ%3D%3D?line=6'>7</a>\u001b[0m executeAlgorithms(resultASCII, result, printing)\n",
      "\u001b[1;32m/Users/luis/Library/CloudStorage/GoogleDrive-luigifog@gmail.com/Mi unidad/Master/Clases/3rd term/Network Security/Final Project/main.ipynb Celda 4\u001b[0m line \u001b[0;36m3\n\u001b[1;32m     <a href='vscode-notebook-cell:/Users/luis/Library/CloudStorage/GoogleDrive-luigifog%40gmail.com/Mi%20unidad/Master/Clases/3rd%20term/Network%20Security/Final%20Project/main.ipynb#W3sZmlsZQ%3D%3D?line=25'>26</a>\u001b[0m \u001b[39mprint\u001b[39m(\u001b[39m\"\u001b[39m\u001b[39m===============================================\u001b[39m\u001b[39m\"\u001b[39m)\n\u001b[1;32m     <a href='vscode-notebook-cell:/Users/luis/Library/CloudStorage/GoogleDrive-luigifog%40gmail.com/Mi%20unidad/Master/Clases/3rd%20term/Network%20Security/Final%20Project/main.ipynb#W3sZmlsZQ%3D%3D?line=26'>27</a>\u001b[0m \u001b[39m#resultBGVEnc, resultBGVDec = BGV.execute(resultASCII_toUse, printing)\u001b[39;00m\n\u001b[1;32m     <a href='vscode-notebook-cell:/Users/luis/Library/CloudStorage/GoogleDrive-luigifog%40gmail.com/Mi%20unidad/Master/Clases/3rd%20term/Network%20Security/Final%20Project/main.ipynb#W3sZmlsZQ%3D%3D?line=27'>28</a>\u001b[0m \u001b[39m#resultGM,resultGMDec = GM.execute(resultASCII_toUse, printing)\u001b[39;00m\n\u001b[1;32m     <a href='vscode-notebook-cell:/Users/luis/Library/CloudStorage/GoogleDrive-luigifog%40gmail.com/Mi%20unidad/Master/Clases/3rd%20term/Network%20Security/Final%20Project/main.ipynb#W3sZmlsZQ%3D%3D?line=28'>29</a>\u001b[0m \u001b[39m#testGM = [123,345,1,2]\u001b[39;00m\n\u001b[1;32m     <a href='vscode-notebook-cell:/Users/luis/Library/CloudStorage/GoogleDrive-luigifog%40gmail.com/Mi%20unidad/Master/Clases/3rd%20term/Network%20Security/Final%20Project/main.ipynb#W3sZmlsZQ%3D%3D?line=29'>30</a>\u001b[0m \u001b[39m#resultCKKSEnc, resultCKKSdec, resultSimilarity = CKKS.execute(testGM, printing)\u001b[39;00m\n\u001b[0;32m---> <a href='vscode-notebook-cell:/Users/luis/Library/CloudStorage/GoogleDrive-luigifog%40gmail.com/Mi%20unidad/Master/Clases/3rd%20term/Network%20Security/Final%20Project/main.ipynb#W3sZmlsZQ%3D%3D?line=30'>31</a>\u001b[0m benaloh\u001b[39m.\u001b[39;49mexecute()\n",
      "File \u001b[0;32m~/Library/CloudStorage/GoogleDrive-luigifog@gmail.com/Mi unidad/Master/Clases/3rd term/Network Security/Final Project/EncryptionAlgorithms/SomeWhatHE/benaloh.py:45\u001b[0m, in \u001b[0;36mexecute\u001b[0;34m()\u001b[0m\n\u001b[1;32m     43\u001b[0m \u001b[39mprint\u001b[39m(pk)\n\u001b[1;32m     44\u001b[0m flag \u001b[39m=\u001b[39m \u001b[39m88\u001b[39m\n\u001b[0;32m---> 45\u001b[0m \u001b[39mfor\u001b[39;00m z \u001b[39min\u001b[39;00m encrypt(flag, pk):\n\u001b[1;32m     46\u001b[0m \t\u001b[39mprint\u001b[39m(z)\n",
      "File \u001b[0;32m~/Library/CloudStorage/GoogleDrive-luigifog@gmail.com/Mi unidad/Master/Clases/3rd term/Network Security/Final Project/EncryptionAlgorithms/SomeWhatHE/benaloh.py:32\u001b[0m, in \u001b[0;36mencrypt\u001b[0;34m(data, pk)\u001b[0m\n\u001b[1;32m     30\u001b[0m a \u001b[39m=\u001b[39m randrange(n)\n\u001b[1;32m     31\u001b[0m c \u001b[39m=\u001b[39m randrange(n)\n\u001b[0;32m---> 32\u001b[0m \u001b[39mfor\u001b[39;00m m \u001b[39min\u001b[39;00m data\u001b[39m.\u001b[39;49mhex():\n\u001b[1;32m     33\u001b[0m \t\u001b[39myield\u001b[39;00m \u001b[39mpow\u001b[39m(y, \u001b[39mint\u001b[39m(m, \u001b[39m16\u001b[39m), n) \u001b[39m*\u001b[39m \u001b[39mpow\u001b[39m(u, r, n) \u001b[39m%\u001b[39m n\n\u001b[1;32m     34\u001b[0m \tu \u001b[39m=\u001b[39m (a\u001b[39m*\u001b[39mu \u001b[39m+\u001b[39m c) \u001b[39m%\u001b[39m n\n",
      "\u001b[0;31mAttributeError\u001b[0m: 'int' object has no attribute 'hex'"
     ]
    }
   ],
   "source": [
    "if __name__ == \"__main__\":\n",
    "    main(True)"
   ]
  }
 ],
 "metadata": {
  "kernelspec": {
   "display_name": "Python 3",
   "language": "python",
   "name": "python3"
  },
  "language_info": {
   "codemirror_mode": {
    "name": "ipython",
    "version": 3
   },
   "file_extension": ".py",
   "mimetype": "text/x-python",
   "name": "python",
   "nbconvert_exporter": "python",
   "pygments_lexer": "ipython3",
   "version": "3.11.3"
  }
 },
 "nbformat": 4,
 "nbformat_minor": 2
}
